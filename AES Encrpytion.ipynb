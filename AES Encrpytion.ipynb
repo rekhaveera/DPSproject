{
 "cells": [
  {
   "cell_type": "code",
   "execution_count": 27,
   "id": "4d7ddb61",
   "metadata": {},
   "outputs": [],
   "source": [
    "# Support functions\n",
    "from sklearn.preprocessing import PolynomialFeatures\n",
    "from sklearn.model_selection import cross_val_score\n",
    "from sklearn.model_selection import GridSearchCV\n",
    "from scipy.stats import uniform\n",
    "\n",
    "# Fit models\n",
    "from sklearn.linear_model import LogisticRegression\n",
    "from sklearn.svm import SVC\n",
    "from sklearn.ensemble import RandomForestClassifier\n",
    "from xgboost import XGBClassifier\n",
    "\n",
    "# Scoring functions\n",
    "from sklearn.metrics import accuracy_score\n",
    "from sklearn.metrics import classification_report\n",
    "from sklearn.metrics import roc_auc_score\n",
    "from sklearn.metrics import roc_curve"
   ]
  },
  {
   "cell_type": "code",
   "execution_count": 28,
   "id": "3a3d202a",
   "metadata": {},
   "outputs": [],
   "source": [
    "import base64\n",
    "import hashlib\n",
    "from Cryptodome.Cipher import AES\n",
    "from Cryptodome.Random import get_random_bytes\n",
    "\n",
    "__key__ = hashlib.sha256(b'16-character key').digest()\n",
    "\n",
    "def encrypt(raw):\n",
    "    BS = AES.block_size\n",
    "    pad = lambda s: s + (BS - len(s) % BS) * chr(BS - len(s) % BS)\n",
    "\n",
    "    raw = base64.b64encode(pad(raw).encode('utf8'))\n",
    "#     iv = get_random_bytes(AES.block_size)\n",
    "#     print(iv)\n",
    "    iv = b'f5FI\\t\\xcau\\x16gq\\x9f_\\xb7\\xc3\\xc3t'\n",
    "    cipher = AES.new(key= __key__, mode= AES.MODE_CFB,iv= iv)\n",
    "    return base64.b64encode(iv + cipher.encrypt(raw))\n",
    "\n",
    "def decrypt(enc):\n",
    "    unpad = lambda s: s[:-ord(s[-1:])]\n",
    "\n",
    "    enc = base64.b64decode(enc)\n",
    "    iv = enc[:AES.block_size]\n",
    "    cipher = AES.new(__key__, AES.MODE_CFB, iv)\n",
    "    return unpad(base64.b64decode(cipher.decrypt(enc[AES.block_size:])).decode('utf8'))\n"
   ]
  },
  {
   "cell_type": "code",
   "execution_count": 29,
   "id": "36f82064",
   "metadata": {},
   "outputs": [],
   "source": [
    "import pandas as pd"
   ]
  },
  {
   "cell_type": "code",
   "execution_count": 30,
   "id": "fd8534c5",
   "metadata": {},
   "outputs": [],
   "source": [
    "df = pd.read_csv(\"Churn_Modelling.csv\")"
   ]
  },
  {
   "cell_type": "code",
   "execution_count": 31,
   "id": "71987830",
   "metadata": {},
   "outputs": [
    {
     "data": {
      "text/html": [
       "<div>\n",
       "<style scoped>\n",
       "    .dataframe tbody tr th:only-of-type {\n",
       "        vertical-align: middle;\n",
       "    }\n",
       "\n",
       "    .dataframe tbody tr th {\n",
       "        vertical-align: top;\n",
       "    }\n",
       "\n",
       "    .dataframe thead th {\n",
       "        text-align: right;\n",
       "    }\n",
       "</style>\n",
       "<table border=\"1\" class=\"dataframe\">\n",
       "  <thead>\n",
       "    <tr style=\"text-align: right;\">\n",
       "      <th></th>\n",
       "      <th>RowNumber</th>\n",
       "      <th>CustomerId</th>\n",
       "      <th>Surname</th>\n",
       "      <th>CreditScore</th>\n",
       "      <th>Geography</th>\n",
       "      <th>Gender</th>\n",
       "      <th>Age</th>\n",
       "      <th>Tenure</th>\n",
       "      <th>Balance</th>\n",
       "      <th>NumOfProducts</th>\n",
       "      <th>HasCrCard</th>\n",
       "      <th>IsActiveMember</th>\n",
       "      <th>EstimatedSalary</th>\n",
       "      <th>Exited</th>\n",
       "    </tr>\n",
       "  </thead>\n",
       "  <tbody>\n",
       "    <tr>\n",
       "      <th>0</th>\n",
       "      <td>1</td>\n",
       "      <td>15634602</td>\n",
       "      <td>Hargrave</td>\n",
       "      <td>619</td>\n",
       "      <td>France</td>\n",
       "      <td>Female</td>\n",
       "      <td>42</td>\n",
       "      <td>2</td>\n",
       "      <td>0.00</td>\n",
       "      <td>1</td>\n",
       "      <td>1</td>\n",
       "      <td>1</td>\n",
       "      <td>101348.88</td>\n",
       "      <td>1</td>\n",
       "    </tr>\n",
       "    <tr>\n",
       "      <th>1</th>\n",
       "      <td>2</td>\n",
       "      <td>15647311</td>\n",
       "      <td>Hill</td>\n",
       "      <td>608</td>\n",
       "      <td>Spain</td>\n",
       "      <td>Female</td>\n",
       "      <td>41</td>\n",
       "      <td>1</td>\n",
       "      <td>83807.86</td>\n",
       "      <td>1</td>\n",
       "      <td>0</td>\n",
       "      <td>1</td>\n",
       "      <td>112542.58</td>\n",
       "      <td>0</td>\n",
       "    </tr>\n",
       "    <tr>\n",
       "      <th>2</th>\n",
       "      <td>3</td>\n",
       "      <td>15619304</td>\n",
       "      <td>Onio</td>\n",
       "      <td>502</td>\n",
       "      <td>France</td>\n",
       "      <td>Female</td>\n",
       "      <td>42</td>\n",
       "      <td>8</td>\n",
       "      <td>159660.80</td>\n",
       "      <td>3</td>\n",
       "      <td>1</td>\n",
       "      <td>0</td>\n",
       "      <td>113931.57</td>\n",
       "      <td>1</td>\n",
       "    </tr>\n",
       "    <tr>\n",
       "      <th>3</th>\n",
       "      <td>4</td>\n",
       "      <td>15701354</td>\n",
       "      <td>Boni</td>\n",
       "      <td>699</td>\n",
       "      <td>France</td>\n",
       "      <td>Female</td>\n",
       "      <td>39</td>\n",
       "      <td>1</td>\n",
       "      <td>0.00</td>\n",
       "      <td>2</td>\n",
       "      <td>0</td>\n",
       "      <td>0</td>\n",
       "      <td>93826.63</td>\n",
       "      <td>0</td>\n",
       "    </tr>\n",
       "    <tr>\n",
       "      <th>4</th>\n",
       "      <td>5</td>\n",
       "      <td>15737888</td>\n",
       "      <td>Mitchell</td>\n",
       "      <td>850</td>\n",
       "      <td>Spain</td>\n",
       "      <td>Female</td>\n",
       "      <td>43</td>\n",
       "      <td>2</td>\n",
       "      <td>125510.82</td>\n",
       "      <td>1</td>\n",
       "      <td>1</td>\n",
       "      <td>1</td>\n",
       "      <td>79084.10</td>\n",
       "      <td>0</td>\n",
       "    </tr>\n",
       "  </tbody>\n",
       "</table>\n",
       "</div>"
      ],
      "text/plain": [
       "   RowNumber  CustomerId   Surname  CreditScore Geography  Gender  Age  \\\n",
       "0          1    15634602  Hargrave          619    France  Female   42   \n",
       "1          2    15647311      Hill          608     Spain  Female   41   \n",
       "2          3    15619304      Onio          502    France  Female   42   \n",
       "3          4    15701354      Boni          699    France  Female   39   \n",
       "4          5    15737888  Mitchell          850     Spain  Female   43   \n",
       "\n",
       "   Tenure    Balance  NumOfProducts  HasCrCard  IsActiveMember  \\\n",
       "0       2       0.00              1          1               1   \n",
       "1       1   83807.86              1          0               1   \n",
       "2       8  159660.80              3          1               0   \n",
       "3       1       0.00              2          0               0   \n",
       "4       2  125510.82              1          1               1   \n",
       "\n",
       "   EstimatedSalary  Exited  \n",
       "0        101348.88       1  \n",
       "1        112542.58       0  \n",
       "2        113931.57       1  \n",
       "3         93826.63       0  \n",
       "4         79084.10       0  "
      ]
     },
     "execution_count": 31,
     "metadata": {},
     "output_type": "execute_result"
    }
   ],
   "source": [
    "df.head()"
   ]
  },
  {
   "cell_type": "code",
   "execution_count": 32,
   "id": "5028b90d",
   "metadata": {
    "scrolled": true
   },
   "outputs": [
    {
     "name": "stderr",
     "output_type": "stream",
     "text": [
      "<ipython-input-32-050795f36386>:2: SettingWithCopyWarning: \n",
      "A value is trying to be set on a copy of a slice from a DataFrame\n",
      "\n",
      "See the caveats in the documentation: https://pandas.pydata.org/pandas-docs/stable/user_guide/indexing.html#returning-a-view-versus-a-copy\n",
      "  df['CustomerId'][i] = encrypt(str(df['CustomerId'][i]))\n",
      "C:\\Users\\dell\\anaconda3\\lib\\site-packages\\pandas\\core\\indexing.py:1637: SettingWithCopyWarning: \n",
      "A value is trying to be set on a copy of a slice from a DataFrame\n",
      "\n",
      "See the caveats in the documentation: https://pandas.pydata.org/pandas-docs/stable/user_guide/indexing.html#returning-a-view-versus-a-copy\n",
      "  self._setitem_single_block(indexer, value, name)\n",
      "<ipython-input-32-050795f36386>:5: SettingWithCopyWarning: \n",
      "A value is trying to be set on a copy of a slice from a DataFrame\n",
      "\n",
      "See the caveats in the documentation: https://pandas.pydata.org/pandas-docs/stable/user_guide/indexing.html#returning-a-view-versus-a-copy\n",
      "  df['CreditScore'][i] = encrypt(str(df['CreditScore'][i]))\n",
      "<ipython-input-32-050795f36386>:8: SettingWithCopyWarning: \n",
      "A value is trying to be set on a copy of a slice from a DataFrame\n",
      "\n",
      "See the caveats in the documentation: https://pandas.pydata.org/pandas-docs/stable/user_guide/indexing.html#returning-a-view-versus-a-copy\n",
      "  df['Tenure'][i] = encrypt(str(df['Tenure'][i]))\n"
     ]
    }
   ],
   "source": [
    "for i in range(len(df['CustomerId'])):\n",
    "    df['CustomerId'][i] = encrypt(str(df['CustomerId'][i]))\n",
    "    \n",
    "for i in range(len(df['CreditScore'])):\n",
    "    df['CreditScore'][i] = encrypt(str(df['CreditScore'][i]))\n",
    "    \n",
    "for i in range(len(df['Tenure'])):\n",
    "    df['Tenure'][i] = encrypt(str(df['Tenure'][i]))"
   ]
  },
  {
   "cell_type": "code",
   "execution_count": 33,
   "id": "d81e234e",
   "metadata": {},
   "outputs": [],
   "source": [
    "## REQUIRED LIBRARIES\n",
    "# For data wrangling \n",
    "import numpy as np\n",
    "import pandas as pd\n",
    "\n",
    "# For visualization\n",
    "import matplotlib.pyplot as plt\n",
    "%matplotlib inline\n",
    "import seaborn as sns\n",
    "pd.options.display.max_rows = None\n",
    "pd.options.display.max_columns = None"
   ]
  },
  {
   "cell_type": "code",
   "execution_count": 34,
   "id": "9929fcf1",
   "metadata": {},
   "outputs": [
    {
     "name": "stdout",
     "output_type": "stream",
     "text": [
      "8000\n",
      "2000\n"
     ]
    }
   ],
   "source": [
    "# Split Train, test data\n",
    "df_train = df.sample(frac=0.8,random_state=200)\n",
    "df_test = df.drop(df_train.index)\n",
    "print(len(df_train))\n",
    "print(len(df_test))"
   ]
  },
  {
   "cell_type": "code",
   "execution_count": null,
   "id": "66c19bbf",
   "metadata": {},
   "outputs": [
    {
     "name": "stderr",
     "output_type": "stream",
     "text": [
      "<ipython-input-35-5e07bfe76488>:4: SettingWithCopyWarning: \n",
      "A value is trying to be set on a copy of a slice from a DataFrame\n",
      "\n",
      "See the caveats in the documentation: https://pandas.pydata.org/pandas-docs/stable/user_guide/indexing.html#returning-a-view-versus-a-copy\n",
      "  df_train['CreditScore'][i] = byte2int(df_train['CreditScore'][i])\n",
      "<ipython-input-35-5e07bfe76488>:8: SettingWithCopyWarning: \n",
      "A value is trying to be set on a copy of a slice from a DataFrame\n",
      "\n",
      "See the caveats in the documentation: https://pandas.pydata.org/pandas-docs/stable/user_guide/indexing.html#returning-a-view-versus-a-copy\n",
      "  df_train['Tenure'][i] = byte2int(df_train['Tenure'][i])\n"
     ]
    }
   ],
   "source": [
    "def byte2int(row):\n",
    "    return int.from_bytes(row, byteorder='little')\n",
    "for i in df_train.index:\n",
    "    df_train['CreditScore'][i] = byte2int(df_train['CreditScore'][i])\n",
    "    \n",
    "    \n",
    "for i in df_train.index:\n",
    "    df_train['Tenure'][i] = byte2int(df_train['Tenure'][i])\n"
   ]
  },
  {
   "cell_type": "code",
   "execution_count": null,
   "id": "8e80a8b0",
   "metadata": {},
   "outputs": [],
   "source": [
    "# CS\n",
    "# age\n",
    "# tenure\n",
    "# balance\n",
    "# no of prod\n",
    "# esti sal\n",
    "# cred?\n",
    "# genfer?\n",
    "# active mem"
   ]
  },
  {
   "cell_type": "code",
   "execution_count": null,
   "id": "5e85586d",
   "metadata": {
    "scrolled": true
   },
   "outputs": [],
   "source": [
    "# Arrange columns by data type for easier manipulation\n",
    "continuous_vars = ['CreditScore',  'Age', 'Tenure', 'Balance','NumOfProducts', 'EstimatedSalary']\n",
    "cat_vars = ['HasCrCard', 'IsActiveMember','Gender']\n",
    "df_train = df_train[['Exited'] + continuous_vars + cat_vars]\n",
    "\n",
    "\n",
    "# df_train.loc[df_train.HasCrCard == 0, 'HasCrCard'] = -1\n",
    "# df_train.loc[df_train.IsActiveMember == 0, 'IsActiveMember'] = -1\n",
    "\n",
    "# One hot encode the categorical variables\n",
    "lst = ['Gender']\n",
    "# remove = list()\n",
    "# for i in lst:\n",
    "#     if (df_train[i].dtype == np.str or df_train[i].dtype == np.object):\n",
    "#         for j in df_train[i].unique():\n",
    "#             df_train[i+'_'+j] = np.where(df_train[i] == j,1,-1)\n",
    "#         remove.append(i)\n",
    "# df_train = df_train.drop(remove, axis=1)\n",
    "df_train.head()"
   ]
  },
  {
   "cell_type": "code",
   "execution_count": 20,
   "id": "c103631b",
   "metadata": {},
   "outputs": [],
   "source": [
    "from sklearn.model_selection import train_test_split\n",
    "X_train, X_test, y_train, y_test = train_test_split(df_train.loc[:, df_train.columns != 'Exited'],df_train.Exited, test_size = 0.3, random_state = 0)"
   ]
  },
  {
   "cell_type": "code",
   "execution_count": 21,
   "id": "23dcc8e0",
   "metadata": {},
   "outputs": [
    {
     "data": {
      "text/html": [
       "<div>\n",
       "<style scoped>\n",
       "    .dataframe tbody tr th:only-of-type {\n",
       "        vertical-align: middle;\n",
       "    }\n",
       "\n",
       "    .dataframe tbody tr th {\n",
       "        vertical-align: top;\n",
       "    }\n",
       "\n",
       "    .dataframe thead th {\n",
       "        text-align: right;\n",
       "    }\n",
       "</style>\n",
       "<table border=\"1\" class=\"dataframe\">\n",
       "  <thead>\n",
       "    <tr style=\"text-align: right;\">\n",
       "      <th></th>\n",
       "      <th>CreditScore</th>\n",
       "      <th>Age</th>\n",
       "      <th>Tenure</th>\n",
       "      <th>Balance</th>\n",
       "      <th>NumOfProducts</th>\n",
       "      <th>EstimatedSalary</th>\n",
       "      <th>HasCrCard</th>\n",
       "      <th>IsActiveMember</th>\n",
       "      <th>Gender_Female</th>\n",
       "      <th>Gender_Male</th>\n",
       "    </tr>\n",
       "  </thead>\n",
       "  <tbody>\n",
       "    <tr>\n",
       "      <th>3882</th>\n",
       "      <td>1738737437789005151539054136451294923882475372...</td>\n",
       "      <td>22</td>\n",
       "      <td>1738737351209833734286625467444490798382037501...</td>\n",
       "      <td>0.00</td>\n",
       "      <td>2</td>\n",
       "      <td>66393.89</td>\n",
       "      <td>1</td>\n",
       "      <td>1</td>\n",
       "      <td>1</td>\n",
       "      <td>-1</td>\n",
       "    </tr>\n",
       "    <tr>\n",
       "      <th>1024</th>\n",
       "      <td>1738720915593023773395633731180690884016314770...</td>\n",
       "      <td>25</td>\n",
       "      <td>1738730468447623122025912215773357411190383058...</td>\n",
       "      <td>108691.95</td>\n",
       "      <td>1</td>\n",
       "      <td>63030.97</td>\n",
       "      <td>1</td>\n",
       "      <td>-1</td>\n",
       "      <td>1</td>\n",
       "      <td>-1</td>\n",
       "    </tr>\n",
       "    <tr>\n",
       "      <th>283</th>\n",
       "      <td>1738737358270427916698564317649226037274359884...</td>\n",
       "      <td>42</td>\n",
       "      <td>1738713968728647673713442992023755337741900804...</td>\n",
       "      <td>118274.71</td>\n",
       "      <td>1</td>\n",
       "      <td>25885.72</td>\n",
       "      <td>1</td>\n",
       "      <td>1</td>\n",
       "      <td>-1</td>\n",
       "      <td>1</td>\n",
       "    </tr>\n",
       "    <tr>\n",
       "      <th>6120</th>\n",
       "      <td>1738720920696659671831347415737705933881442570...</td>\n",
       "      <td>40</td>\n",
       "      <td>1738713968728647673713442992023755337741900804...</td>\n",
       "      <td>0.00</td>\n",
       "      <td>1</td>\n",
       "      <td>141359.11</td>\n",
       "      <td>1</td>\n",
       "      <td>1</td>\n",
       "      <td>-1</td>\n",
       "      <td>1</td>\n",
       "    </tr>\n",
       "    <tr>\n",
       "      <th>3281</th>\n",
       "      <td>1738721001768713274719807417750168771839089651...</td>\n",
       "      <td>32</td>\n",
       "      <td>1738720887061892845020098355802042553041505048...</td>\n",
       "      <td>108698.96</td>\n",
       "      <td>2</td>\n",
       "      <td>161069.73</td>\n",
       "      <td>1</td>\n",
       "      <td>1</td>\n",
       "      <td>1</td>\n",
       "      <td>-1</td>\n",
       "    </tr>\n",
       "  </tbody>\n",
       "</table>\n",
       "</div>"
      ],
      "text/plain": [
       "                                            CreditScore  Age  \\\n",
       "3882  1738737437789005151539054136451294923882475372...   22   \n",
       "1024  1738720915593023773395633731180690884016314770...   25   \n",
       "283   1738737358270427916698564317649226037274359884...   42   \n",
       "6120  1738720920696659671831347415737705933881442570...   40   \n",
       "3281  1738721001768713274719807417750168771839089651...   32   \n",
       "\n",
       "                                                 Tenure    Balance  \\\n",
       "3882  1738737351209833734286625467444490798382037501...       0.00   \n",
       "1024  1738730468447623122025912215773357411190383058...  108691.95   \n",
       "283   1738713968728647673713442992023755337741900804...  118274.71   \n",
       "6120  1738713968728647673713442992023755337741900804...       0.00   \n",
       "3281  1738720887061892845020098355802042553041505048...  108698.96   \n",
       "\n",
       "      NumOfProducts  EstimatedSalary  HasCrCard  IsActiveMember  \\\n",
       "3882              2         66393.89          1               1   \n",
       "1024              1         63030.97          1              -1   \n",
       "283               1         25885.72          1               1   \n",
       "6120              1        141359.11          1               1   \n",
       "3281              2        161069.73          1               1   \n",
       "\n",
       "      Gender_Female  Gender_Male  \n",
       "3882              1           -1  \n",
       "1024              1           -1  \n",
       "283              -1            1  \n",
       "6120             -1            1  \n",
       "3281              1           -1  "
      ]
     },
     "execution_count": 21,
     "metadata": {},
     "output_type": "execute_result"
    }
   ],
   "source": [
    "X_train.head()"
   ]
  },
  {
   "cell_type": "code",
   "execution_count": 22,
   "id": "4f5f357d",
   "metadata": {
    "scrolled": true
   },
   "outputs": [
    {
     "name": "stdout",
     "output_type": "stream",
     "text": [
      "Before OverSampling, counts of label '1': 1140\n",
      "Before OverSampling, counts of label '0': 4460 \n",
      "\n",
      "After OverSampling, the shape of train_X: (8920, 10)\n",
      "After OverSampling, the shape of train_y: (8920,) \n",
      "\n",
      "After OverSampling, counts of label '1': 4460\n",
      "After OverSampling, counts of label '0': 4460\n",
      "              precision    recall  f1-score   support\n",
      "\n",
      "           0       0.88      0.90      0.89      1893\n",
      "           1       0.59      0.54      0.56       507\n",
      "\n",
      "    accuracy                           0.82      2400\n",
      "   macro avg       0.73      0.72      0.72      2400\n",
      "weighted avg       0.82      0.82      0.82      2400\n",
      "\n",
      "RF \n",
      " 0.8220833333333334\n",
      "              precision    recall  f1-score   support\n",
      "\n",
      "           0       0.88      0.91      0.89      1893\n",
      "           1       0.61      0.53      0.57       507\n",
      "\n",
      "    accuracy                           0.83      2400\n",
      "   macro avg       0.75      0.72      0.73      2400\n",
      "weighted avg       0.82      0.83      0.82      2400\n",
      "\n",
      "XG \n",
      " 0.8295833333333333\n"
     ]
    }
   ],
   "source": [
    "print(\"Before OverSampling, counts of label '1': {}\".format(sum(y_train == 1)))\n",
    "print(\"Before OverSampling, counts of label '0': {} \\n\".format(sum(y_train == 0)))\n",
    "  \n",
    "# import SMOTE module from imblearn library\n",
    "# pip install imblearn (if you don't have imblearn in your system)\n",
    "from imblearn.over_sampling import SMOTE\n",
    "sm = SMOTE(random_state = 2)\n",
    "X_train_res, y_train_res = sm.fit_resample(X_train, y_train.ravel())\n",
    "  \n",
    "print('After OverSampling, the shape of train_X: {}'.format(X_train_res.shape))\n",
    "print('After OverSampling, the shape of train_y: {} \\n'.format(y_train_res.shape))\n",
    "  \n",
    "print(\"After OverSampling, counts of label '1': {}\".format(sum(y_train_res == 1)))\n",
    "print(\"After OverSampling, counts of label '0': {}\".format(sum(y_train_res == 0)))\n",
    "\n",
    "X_train_res['CreditScore'] = np.nan_to_num(np.array(X_train_res['CreditScore']).astype(np.float32))\n",
    "X_train_res['Tenure'] = np.nan_to_num(np.array(X_train_res['Tenure']).astype(np.float32))\n",
    "X_train_res.head()\n",
    "\n",
    "X_test['CreditScore'] = np.nan_to_num(np.array(X_test['CreditScore']).astype(np.float32))\n",
    "X_test['Tenure'] = np.nan_to_num(np.array(X_test['Tenure']).astype(np.float32))\n",
    "# X_test.head()\n",
    "\n",
    "from sklearn.ensemble import RandomForestClassifier\n",
    "clf = RandomForestClassifier(n_estimators = 100) \n",
    "clf.fit(X_train_res, y_train_res)\n",
    "y_pred = clf.predict(X_test)\n",
    "print(classification_report(y_test, y_pred))\n",
    "print(\"RF \\n\", clf.score(X_test, y_test))\n",
    "\n",
    "\n",
    "from xgboost import XGBClassifier\n",
    "model = XGBClassifier(use_label_encoder=False, eval_metric='mlogloss')\n",
    "model.fit(X_train_res, y_train_res)\n",
    "\n",
    "y_pred = model.predict(X_test)\n",
    "print(classification_report(y_test, y_pred))\n",
    "\n",
    "print(\"XG \\n\", model.score(X_test, y_test))"
   ]
  },
  {
   "cell_type": "code",
   "execution_count": 23,
   "id": "63c5c982",
   "metadata": {},
   "outputs": [],
   "source": [
    "import pickle\n",
    "pickle.dump(model, open(\"float64model.pkl\", 'wb'))\n"
   ]
  },
  {
   "cell_type": "code",
   "execution_count": 24,
   "id": "30cedc59",
   "metadata": {},
   "outputs": [
    {
     "data": {
      "text/html": [
       "<div>\n",
       "<style scoped>\n",
       "    .dataframe tbody tr th:only-of-type {\n",
       "        vertical-align: middle;\n",
       "    }\n",
       "\n",
       "    .dataframe tbody tr th {\n",
       "        vertical-align: top;\n",
       "    }\n",
       "\n",
       "    .dataframe thead th {\n",
       "        text-align: right;\n",
       "    }\n",
       "</style>\n",
       "<table border=\"1\" class=\"dataframe\">\n",
       "  <thead>\n",
       "    <tr style=\"text-align: right;\">\n",
       "      <th></th>\n",
       "      <th>CreditScore</th>\n",
       "      <th>Age</th>\n",
       "      <th>Tenure</th>\n",
       "      <th>Balance</th>\n",
       "      <th>NumOfProducts</th>\n",
       "      <th>EstimatedSalary</th>\n",
       "      <th>HasCrCard</th>\n",
       "      <th>IsActiveMember</th>\n",
       "      <th>Gender_Female</th>\n",
       "      <th>Gender_Male</th>\n",
       "    </tr>\n",
       "  </thead>\n",
       "  <tbody>\n",
       "    <tr>\n",
       "      <th>0</th>\n",
       "      <td>3.402823e+38</td>\n",
       "      <td>22</td>\n",
       "      <td>3.402823e+38</td>\n",
       "      <td>0.00</td>\n",
       "      <td>2</td>\n",
       "      <td>66393.89</td>\n",
       "      <td>1</td>\n",
       "      <td>1</td>\n",
       "      <td>1</td>\n",
       "      <td>-1</td>\n",
       "    </tr>\n",
       "    <tr>\n",
       "      <th>1</th>\n",
       "      <td>3.402823e+38</td>\n",
       "      <td>25</td>\n",
       "      <td>3.402823e+38</td>\n",
       "      <td>108691.95</td>\n",
       "      <td>1</td>\n",
       "      <td>63030.97</td>\n",
       "      <td>1</td>\n",
       "      <td>-1</td>\n",
       "      <td>1</td>\n",
       "      <td>-1</td>\n",
       "    </tr>\n",
       "    <tr>\n",
       "      <th>2</th>\n",
       "      <td>3.402823e+38</td>\n",
       "      <td>42</td>\n",
       "      <td>3.402823e+38</td>\n",
       "      <td>118274.71</td>\n",
       "      <td>1</td>\n",
       "      <td>25885.72</td>\n",
       "      <td>1</td>\n",
       "      <td>1</td>\n",
       "      <td>-1</td>\n",
       "      <td>1</td>\n",
       "    </tr>\n",
       "    <tr>\n",
       "      <th>3</th>\n",
       "      <td>3.402823e+38</td>\n",
       "      <td>40</td>\n",
       "      <td>3.402823e+38</td>\n",
       "      <td>0.00</td>\n",
       "      <td>1</td>\n",
       "      <td>141359.11</td>\n",
       "      <td>1</td>\n",
       "      <td>1</td>\n",
       "      <td>-1</td>\n",
       "      <td>1</td>\n",
       "    </tr>\n",
       "    <tr>\n",
       "      <th>4</th>\n",
       "      <td>3.402823e+38</td>\n",
       "      <td>32</td>\n",
       "      <td>3.402823e+38</td>\n",
       "      <td>108698.96</td>\n",
       "      <td>2</td>\n",
       "      <td>161069.73</td>\n",
       "      <td>1</td>\n",
       "      <td>1</td>\n",
       "      <td>1</td>\n",
       "      <td>-1</td>\n",
       "    </tr>\n",
       "  </tbody>\n",
       "</table>\n",
       "</div>"
      ],
      "text/plain": [
       "    CreditScore  Age        Tenure    Balance  NumOfProducts  EstimatedSalary  \\\n",
       "0  3.402823e+38   22  3.402823e+38       0.00              2         66393.89   \n",
       "1  3.402823e+38   25  3.402823e+38  108691.95              1         63030.97   \n",
       "2  3.402823e+38   42  3.402823e+38  118274.71              1         25885.72   \n",
       "3  3.402823e+38   40  3.402823e+38       0.00              1        141359.11   \n",
       "4  3.402823e+38   32  3.402823e+38  108698.96              2        161069.73   \n",
       "\n",
       "   HasCrCard  IsActiveMember  Gender_Female  Gender_Male  \n",
       "0          1               1              1           -1  \n",
       "1          1              -1              1           -1  \n",
       "2          1               1             -1            1  \n",
       "3          1               1             -1            1  \n",
       "4          1               1              1           -1  "
      ]
     },
     "execution_count": 24,
     "metadata": {},
     "output_type": "execute_result"
    }
   ],
   "source": [
    "X_train_res.head()"
   ]
  },
  {
   "cell_type": "code",
   "execution_count": 26,
   "id": "2e59df45",
   "metadata": {},
   "outputs": [
    {
     "data": {
      "text/plain": [
       "1    5581\n",
       "2    3067\n",
       "3     237\n",
       "4      35\n",
       "Name: NumOfProducts, dtype: int64"
      ]
     },
     "execution_count": 26,
     "metadata": {},
     "output_type": "execute_result"
    }
   ],
   "source": [
    "X_train_res['NumOfProducts'].value_counts()"
   ]
  },
  {
   "cell_type": "code",
   "execution_count": 18,
   "id": "2a73465a",
   "metadata": {},
   "outputs": [
    {
     "name": "stdout",
     "output_type": "stream",
     "text": [
      "[[ 3.40282347e+38  5.00000000e+01  3.40282347e+38  8.83798100e+04\n",
      "   3.00000000e+00  6.41572400e+04 -1.00000000e+00  1.00000000e+00\n",
      "   1.00000000e+00 -1.00000000e+00]]\n"
     ]
    }
   ],
   "source": [
    "val = X_test.iloc[1:2]\n",
    "print(val.values)"
   ]
  },
  {
   "cell_type": "code",
   "execution_count": 19,
   "id": "937a51bc",
   "metadata": {},
   "outputs": [],
   "source": [
    "# CS\n",
    "# age\n",
    "# tenure\n",
    "# balance\n",
    "# no of prod\n",
    "# esti sal\n",
    "# cred?\n",
    "# genfer?\n",
    "# active mem"
   ]
  },
  {
   "cell_type": "code",
   "execution_count": 1,
   "id": "95a3f7c5",
   "metadata": {},
   "outputs": [
    {
     "data": {
      "text/plain": [
       "10"
      ]
     },
     "execution_count": 1,
     "metadata": {},
     "output_type": "execute_result"
    }
   ],
   "source": [
    "len([ 3.40282347e+38  ,5.00000000e+01,  3.40282347e+38 , 8.83798100e+04,   3.00000000e+00,  6.41572400e+04, -1.00000000e+00 , 1.00000000e+00 ,1.00000000e+00, -1.00000000e+00])"
   ]
  },
  {
   "cell_type": "code",
   "execution_count": 28,
   "id": "e4e82c15",
   "metadata": {
    "scrolled": true
   },
   "outputs": [
    {
     "data": {
      "text/plain": [
       "array([1])"
      ]
     },
     "execution_count": 28,
     "metadata": {},
     "output_type": "execute_result"
    }
   ],
   "source": [
    "model.predict(np.array([[ 3.40282347e+38  ,5.00000000e+01,  3.40282347e+38 , 8.83798100e+04,   3.00000000e+00,  6.41572400e+04, -1.00000000e+00 , 1.00000000e+00 ,1.00000000e+00, -1.00000000e+00]]))"
   ]
  },
  {
   "cell_type": "code",
   "execution_count": 31,
   "id": "4f0f1cb6",
   "metadata": {},
   "outputs": [],
   "source": [
    "with open(\"float64model.pkl\", \"rb\") as f:\n",
    "    rawdata = f.read()\n",
    "\n",
    "mm = pickle.loads(rawdata)"
   ]
  },
  {
   "cell_type": "code",
   "execution_count": 32,
   "id": "f9dfa61d",
   "metadata": {},
   "outputs": [
    {
     "data": {
      "text/plain": [
       "array([1])"
      ]
     },
     "execution_count": 32,
     "metadata": {},
     "output_type": "execute_result"
    }
   ],
   "source": [
    "mm.predict(val)"
   ]
  },
  {
   "cell_type": "code",
   "execution_count": null,
   "id": "15fb4c63",
   "metadata": {},
   "outputs": [],
   "source": []
  },
  {
   "cell_type": "code",
   "execution_count": null,
   "id": "c11996c4",
   "metadata": {},
   "outputs": [],
   "source": []
  },
  {
   "cell_type": "code",
   "execution_count": 28,
   "id": "301ce113",
   "metadata": {},
   "outputs": [],
   "source": [
    "\n",
    "# print(\"Before Undersampling, counts of label '1': {}\".format(sum(y_train == 1)))\n",
    "# print(\"Before Undersampling, counts of label '0': {} \\n\".format(sum(y_train == 0)))\n",
    "  \n",
    "# # apply near miss\n",
    "# from imblearn.under_sampling import NearMiss\n",
    "# nr = NearMiss()\n",
    "  \n",
    "# X_train_miss, y_train_miss = nr.fit_resample(X_train, y_train.ravel())\n",
    "  \n",
    "# print('After Undersampling, the shape of train_X: {}'.format(X_train_miss.shape))\n",
    "# print('After Undersampling, the shape of train_y: {} \\n'.format(y_train_miss.shape))\n",
    "  \n",
    "# print(\"After Undersampling, counts of label '1': {}\".format(sum(y_train_miss == 1)))\n",
    "# print(\"After Undersampling, counts of label '0': {}\".format(sum(y_train_miss == 0)))\n",
    "\n",
    "# X_train_miss['CreditScore'] = np.nan_to_num(np.array(X_train_miss['CreditScore']).astype(np.float32))\n",
    "# X_train_miss['Tenure'] = np.nan_to_num(np.array(X_train_miss['Tenure']).astype(np.float32))\n",
    "# # X_train_miss.head()\n",
    "\n",
    "# X_test['CreditScore'] = np.nan_to_num(np.array(X_test['CreditScore']).astype(np.float32))\n",
    "# X_test['Tenure'] = np.nan_to_num(np.array(X_test['Tenure']).astype(np.float32))\n",
    "# # X_test.head()"
   ]
  },
  {
   "cell_type": "code",
   "execution_count": 26,
   "id": "bd58cc35",
   "metadata": {},
   "outputs": [],
   "source": [
    "# from sklearn.ensemble import RandomForestClassifier\n",
    "# clf = RandomForestClassifier(n_estimators = 100) \n",
    "\n",
    "# clf.fit(np.nan_to_num(np.array(X_train_miss).astype(np.float32)), np.nan_to_num(np.array(y_train_miss).astype(np.float32)))\n",
    "# X_test = np.nan_to_num(np.array(X_test).astype(np.float32))\n",
    "\n",
    "# y_pred = clf.predict(X_test)\n",
    "# print(classification_report(np.nan_to_num(np.array(y_test).astype(np.float32)), y_pred))\n",
    "\n",
    "# clf.score(X_test, y_test)"
   ]
  },
  {
   "cell_type": "code",
   "execution_count": null,
   "id": "f116cf11",
   "metadata": {},
   "outputs": [],
   "source": []
  },
  {
   "cell_type": "code",
   "execution_count": null,
   "id": "f7010179",
   "metadata": {},
   "outputs": [],
   "source": []
  },
  {
   "cell_type": "code",
   "execution_count": 46,
   "id": "241e6612",
   "metadata": {},
   "outputs": [],
   "source": [
    "import phe\n",
    "from phe import paillier\n",
    "import json"
   ]
  },
  {
   "cell_type": "code",
   "execution_count": 52,
   "id": "131bf40f",
   "metadata": {},
   "outputs": [],
   "source": [
    "# import numpy as np\n",
    "# # print(np.array(X_train_miss).astype(np.float32).dtype)\n",
    "# arr = np.array(X_train_miss).astype(np.float64)\n",
    "# print(arr.dtype)\n",
    "# print(arr)\n",
    "# np.nan_to_num(arr)"
   ]
  },
  {
   "cell_type": "code",
   "execution_count": 47,
   "id": "2d2ca22a",
   "metadata": {},
   "outputs": [],
   "source": [
    "pub_key,priv_key = paillier.generate_paillier_keypair()"
   ]
  },
  {
   "cell_type": "code",
   "execution_count": 49,
   "id": "cf9cbc54",
   "metadata": {},
   "outputs": [
    {
     "data": {
      "text/plain": [
       "146822641319290653661539639419937040665327267400719939314577386099377742668338040299938905941212328607534995706511539700747116516241064706622833000042606675002067378427765029966524593075447443050939984775038054349212100576597225106281065871943095818381839977287524750403093317182545791571057288123437420212366534900181999744262117620660132664163549528828789789164584624884385312506665311353106796169152632337120952610340460751742871122902621491699117931148895359670571634877705372383356255545491888132328833607134440115435132650020731396373074457499556931755155070102752820669856235046493288702895760346347378359981916607037224964812968507945399727859396106570079372761154575337710827095618860115416143560525535389625228622530148902815443044601806493121292188948919305900851401471298584853325921636738496363574900316360377902062668136122359291566278642591958618352784038970528683182000537224843132477852285198018222714187932775456980769669911769366493904328302824333486423228567813278519639876954531284544285218050337120984883793619151614565741677382515666840937983417995808171297172555663517766299386468427622951839689816783322924100552830164983162105019608492332126698493688779651906422516235097905927280260102239356500814556502255"
      ]
     },
     "execution_count": 49,
     "metadata": {},
     "output_type": "execute_result"
    }
   ],
   "source": [
    "pub_key.encrypt(5).ciphertext()\n"
   ]
  },
  {
   "cell_type": "code",
   "execution_count": null,
   "id": "9ace365a",
   "metadata": {},
   "outputs": [],
   "source": []
  }
 ],
 "metadata": {
  "kernelspec": {
   "display_name": "Python 3",
   "language": "python",
   "name": "python3"
  },
  "language_info": {
   "codemirror_mode": {
    "name": "ipython",
    "version": 3
   },
   "file_extension": ".py",
   "mimetype": "text/x-python",
   "name": "python",
   "nbconvert_exporter": "python",
   "pygments_lexer": "ipython3",
   "version": "3.8.8"
  }
 },
 "nbformat": 4,
 "nbformat_minor": 5
}
